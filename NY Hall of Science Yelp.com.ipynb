{
 "cells": [
  {
   "cell_type": "markdown",
   "id": "639251ca",
   "metadata": {},
   "source": [
    "# NY Hall of Science Yelp Review"
   ]
  },
  {
   "cell_type": "code",
   "execution_count": 1,
   "id": "efb70fcf",
   "metadata": {},
   "outputs": [],
   "source": [
    "import pandas as pd\n",
    "from bs4 import BeautifulSoup as soup\n",
    "import requests as re"
   ]
  },
  {
   "cell_type": "markdown",
   "id": "8303a978",
   "metadata": {},
   "source": [
    "#  https://www.yelp.com/biz/new-york-hall-of-science-corona-2"
   ]
  },
  {
   "cell_type": "markdown",
   "id": "28e37d14",
   "metadata": {},
   "source": [
    "'''There are 26 page of reviews and each time in URL it increase by 10 up to 250\n",
    "For example, first page URL is: https://www.yelp.com/biz/new-york-hall-of-science-corona-2 and second page url is\n",
    "https://www.yelp.com/biz/new-york-hall-of-science-corona-2?start=10 So it just adding \"?start=10\".\n",
    "'''"
   ]
  },
  {
   "cell_type": "code",
   "execution_count": 3,
   "id": "157cc05a",
   "metadata": {},
   "outputs": [],
   "source": [
    "Base_Url=\"https://www.yelp.com/biz/new-york-hall-of-science-corona-2\"\n",
    "\n",
    "Location =[]\n",
    "Date =[]\n",
    "Rating =[]\n",
    "Comment =[]\n",
    "\n",
    "current_page = 0"
   ]
  },
  {
   "cell_type": "code",
   "execution_count": 7,
   "id": "6fa8f130",
   "metadata": {},
   "outputs": [
    {
     "ename": "AttributeError",
     "evalue": "'NoneType' object has no attribute 'find_all'",
     "output_type": "error",
     "traceback": [
      "\u001b[1;31m---------------------------------------------------------------------------\u001b[0m",
      "\u001b[1;31mAttributeError\u001b[0m                            Traceback (most recent call last)",
      "\u001b[1;32m~\\AppData\\Local\\Temp\\ipykernel_13864\\2053744021.py\u001b[0m in \u001b[0;36m<module>\u001b[1;34m\u001b[0m\n\u001b[0;32m     14\u001b[0m \u001b[1;33m\u001b[0m\u001b[0m\n\u001b[0;32m     15\u001b[0m     \u001b[1;31m# Finding the location where the reviews since it is differen than comment,rate and date.\u001b[0m\u001b[1;33m\u001b[0m\u001b[1;33m\u001b[0m\u001b[0m\n\u001b[1;32m---> 16\u001b[1;33m     \u001b[0mAll_reviewer_loc\u001b[0m\u001b[1;33m=\u001b[0m\u001b[0mAll_Review\u001b[0m\u001b[1;33m.\u001b[0m\u001b[0mfind_all\u001b[0m\u001b[1;33m(\u001b[0m\u001b[1;34m'li'\u001b[0m\u001b[1;33m,\u001b[0m\u001b[1;33m{\u001b[0m\u001b[1;34m'class'\u001b[0m\u001b[1;33m:\u001b[0m\u001b[1;34m\"user-location responsive-hidden-small\"\u001b[0m\u001b[1;33m}\u001b[0m\u001b[1;33m)\u001b[0m\u001b[1;33m\u001b[0m\u001b[1;33m\u001b[0m\u001b[0m\n\u001b[0m\u001b[0;32m     17\u001b[0m \u001b[1;33m\u001b[0m\u001b[0m\n\u001b[0;32m     18\u001b[0m     \u001b[1;31m#Finding all the location of reviewers\u001b[0m\u001b[1;33m\u001b[0m\u001b[1;33m\u001b[0m\u001b[0m\n",
      "\u001b[1;31mAttributeError\u001b[0m: 'NoneType' object has no attribute 'find_all'"
     ]
    }
   ],
   "source": [
    "while current_page <= 250:\n",
    "    Url = Base_Url + '?start=' + str(current_page)\n",
    "    response = re.get(Url)\n",
    "    \n",
    "    # Parsing HTMl using BeautifulSoup\n",
    "    yelp_soup= soup(response.text, 'html.parser')\n",
    "\n",
    "    \n",
    "    # Isolatethe reviews for for \"New York Hall of Science\" and avoide other review on the site\n",
    "    All_Review=yelp_soup.find('div', {'class':\"feed\"})\n",
    "    \n",
    "    # only taking the updated comment, rating & date(avoid excaption like individule with two review)\n",
    "    Each_Comment_Rate_Date= All_Review.find_all('div',{'class':\"review-content\"})\n",
    "    \n",
    "    # Finding the location where the reviews since it is differen than comment,rate and date.    \n",
    "    All_reviewer_loc=All_Review.find_all('li',{'class':\"user-location responsive-hidden-small\"})\n",
    "    \n",
    "    #Finding all the location of reviewers     \n",
    "    for locations in All_reviewer_loc:\n",
    "        Location.append(locations.text.strip(\"\\n\"))\n",
    "    \n",
    "\n",
    "    # Finding dates of the review\n",
    "    for dates in Each_Comment_Rate_Date:\n",
    "        Date.append(dates.find('span',{'class':'rating-qualifier'}).text.replace(\"\\n\", \" \").split()[0])   \n",
    "       \n",
    "    # Finding rating of the review   \n",
    "    for ratings in Each_Comment_Rate_Date:\n",
    "        Rating.append(ratings.find('div',{'class':\"i-stars\"}).attrs[\"title\"])  \n",
    "\n",
    "    # Finding Comment of the review \n",
    "    for comments in Each_Comment_Rate_Date:\n",
    "        Comment.append(comments.find('p',{'lang':'en'}).text)\n",
    "\n",
    "        \n",
    "    current_page += 10"
   ]
  },
  {
   "cell_type": "code",
   "execution_count": 8,
   "id": "22326710",
   "metadata": {},
   "outputs": [],
   "source": [
    "#print(len(Location),len(Comment),len(Date),len(Rating))\n",
    "df = pd.DataFrame({'Location': Location,'Comment':Comment,'Date':Date, 'Rating':Rating})\n"
   ]
  },
  {
   "cell_type": "code",
   "execution_count": 9,
   "id": "a6037eb1",
   "metadata": {},
   "outputs": [
    {
     "data": {
      "text/html": [
       "<div>\n",
       "<style scoped>\n",
       "    .dataframe tbody tr th:only-of-type {\n",
       "        vertical-align: middle;\n",
       "    }\n",
       "\n",
       "    .dataframe tbody tr th {\n",
       "        vertical-align: top;\n",
       "    }\n",
       "\n",
       "    .dataframe thead th {\n",
       "        text-align: right;\n",
       "    }\n",
       "</style>\n",
       "<table border=\"1\" class=\"dataframe\">\n",
       "  <thead>\n",
       "    <tr style=\"text-align: right;\">\n",
       "      <th></th>\n",
       "      <th>Location</th>\n",
       "      <th>Comment</th>\n",
       "      <th>Date</th>\n",
       "      <th>Rating</th>\n",
       "    </tr>\n",
       "  </thead>\n",
       "  <tbody>\n",
       "  </tbody>\n",
       "</table>\n",
       "</div>"
      ],
      "text/plain": [
       "Empty DataFrame\n",
       "Columns: [Location, Comment, Date, Rating]\n",
       "Index: []"
      ]
     },
     "execution_count": 9,
     "metadata": {},
     "output_type": "execute_result"
    }
   ],
   "source": [
    "#Looking at first 5 line \n",
    "df.head()"
   ]
  },
  {
   "cell_type": "code",
   "execution_count": null,
   "id": "c3927342",
   "metadata": {},
   "outputs": [],
   "source": [
    "# Writing our new data frame to a csv file\n",
    "dfc = df.to_csv('Hallof_Science_YelpReview.csv', index =False)\n",
    "\n",
    "# To write in excel\n",
    "#df.to_excel('Yelp_Reviews.xlsx', index =False)"
   ]
  }
 ],
 "metadata": {
  "kernelspec": {
   "display_name": "Python 3 (ipykernel)",
   "language": "python",
   "name": "python3"
  },
  "language_info": {
   "codemirror_mode": {
    "name": "ipython",
    "version": 3
   },
   "file_extension": ".py",
   "mimetype": "text/x-python",
   "name": "python",
   "nbconvert_exporter": "python",
   "pygments_lexer": "ipython3",
   "version": "3.9.13"
  }
 },
 "nbformat": 4,
 "nbformat_minor": 5
}
