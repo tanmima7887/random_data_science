{
 "cells": [
  {
   "cell_type": "code",
   "execution_count": 11,
   "id": "1b9d42ac",
   "metadata": {},
   "outputs": [
    {
     "name": "stdout",
     "output_type": "stream",
     "text": [
      "   Quantity_Sold  Price  Advertising  Views\n",
      "0             22     16          1.5    180\n",
      "1             15     17          1.7    100\n",
      "2             14     16          1.6     78\n",
      "3             24     17          1.7    200\n",
      "4             19     16          1.6    160\n",
      "                            OLS Regression Results                            \n",
      "==============================================================================\n",
      "Dep. Variable:          Quantity_Sold   R-squared:                       0.754\n",
      "Model:                            OLS   Adj. R-squared:                  0.708\n",
      "Method:                 Least Squares   F-statistic:                     16.36\n",
      "Date:                Sat, 17 Dec 2022   Prob (F-statistic):           3.94e-05\n",
      "Time:                        00:52:10   Log-Likelihood:                -50.814\n",
      "No. Observations:                  20   AIC:                             109.6\n",
      "Df Residuals:                      16   BIC:                             113.6\n",
      "Df Model:                           3                                         \n",
      "Covariance Type:            nonrobust                                         \n",
      "===============================================================================\n",
      "                  coef    std err          t      P>|t|      [0.025      0.975]\n",
      "-------------------------------------------------------------------------------\n",
      "Intercept      25.2031     10.925      2.307      0.035       2.043      48.363\n",
      "Price          -0.9025      0.659     -1.369      0.190      -2.300       0.495\n",
      "Advertising    -2.1993      4.983     -0.441      0.665     -12.763       8.364\n",
      "Views           0.0836      0.018      4.551      0.000       0.045       0.123\n",
      "==============================================================================\n",
      "Omnibus:                        1.994   Durbin-Watson:                   1.346\n",
      "Prob(Omnibus):                  0.369   Jarque-Bera (JB):                0.953\n",
      "Skew:                          -0.527   Prob(JB):                        0.621\n",
      "Kurtosis:                       3.181   Cond. No.                     1.96e+03\n",
      "==============================================================================\n",
      "\n",
      "Notes:\n",
      "[1] Standard Errors assume that the covariance matrix of the errors is correctly specified.\n",
      "[2] The condition number is large, 1.96e+03. This might indicate that there are\n",
      "strong multicollinearity or other numerical problems.\n"
     ]
    }
   ],
   "source": [
    "# import packages\n",
    "import numpy as np\n",
    "import pandas as pd\n",
    "import statsmodels.formula.api as smf\n",
    "  \n",
    "# loading the csv file\n",
    "df = pd.read_csv('final.csv')\n",
    "print(df.head())\n",
    "  \n",
    "# fitting the model\n",
    "df.columns = ['Quantity_Sold', 'Price', 'Advertising', 'Views']\n",
    "model = smf.ols(formula='Quantity_Sold ~ Price + Advertising + Views ', data=df).fit()\n",
    "  \n",
    "# model summary\n",
    "print(model.summary())"
   ]
  },
  {
   "cell_type": "code",
   "execution_count": null,
   "id": "7cfc6414",
   "metadata": {},
   "outputs": [],
   "source": []
  }
 ],
 "metadata": {
  "kernelspec": {
   "display_name": "Python 3 (ipykernel)",
   "language": "python",
   "name": "python3"
  },
  "language_info": {
   "codemirror_mode": {
    "name": "ipython",
    "version": 3
   },
   "file_extension": ".py",
   "mimetype": "text/x-python",
   "name": "python",
   "nbconvert_exporter": "python",
   "pygments_lexer": "ipython3",
   "version": "3.9.13"
  }
 },
 "nbformat": 4,
 "nbformat_minor": 5
}
